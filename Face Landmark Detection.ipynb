{
 "cells": [
  {
   "cell_type": "code",
   "execution_count": 3,
   "id": "120db0ab",
   "metadata": {},
   "outputs": [],
   "source": [
    "import cv2 \n",
    "import time\n",
    "import mediapipe as mp "
   ]
  },
  {
   "cell_type": "code",
   "execution_count": 8,
   "id": "48feb1a7",
   "metadata": {},
   "outputs": [],
   "source": [
    "cap = cv2.VideoCapture(\"Video-Shawn.mp4\")\n",
    "pTime = 0\n",
    " \n",
    "mpDraw = mp.solutions.drawing_utils\n",
    "mpFaceMesh = mp.solutions.face_mesh\n",
    "faceMesh = mpFaceMesh.FaceMesh(max_num_faces=2)\n",
    "drawSpec = mpDraw.DrawingSpec(thickness=1, circle_radius=2)"
   ]
  },
  {
   "cell_type": "code",
   "execution_count": 5,
   "id": "23aad649",
   "metadata": {},
   "outputs": [
    {
     "ename": "AttributeError",
     "evalue": "module 'mediapipe' has no attribute 'FACEMASH_TESSELATION'",
     "output_type": "error",
     "traceback": [
      "\u001b[1;31m---------------------------------------------------------------------------\u001b[0m",
      "\u001b[1;31mAttributeError\u001b[0m                            Traceback (most recent call last)",
      "Input \u001b[1;32mIn [5]\u001b[0m, in \u001b[0;36m<module>\u001b[1;34m\u001b[0m\n\u001b[1;32m----> 1\u001b[0m \u001b[43mmp\u001b[49m\u001b[38;5;241;43m.\u001b[39;49m\u001b[43mFACEMASH_TESSELATION\u001b[49m\n",
      "\u001b[1;31mAttributeError\u001b[0m: module 'mediapipe' has no attribute 'FACEMASH_TESSELATION'"
     ]
    }
   ],
   "source": [
    "mp.FACEMASH_TESSELATION"
   ]
  },
  {
   "cell_type": "code",
   "execution_count": null,
   "id": "ee52e5b3",
   "metadata": {},
   "outputs": [],
   "source": [
    "while True:\n",
    "    success, img = cap.read()\n",
    "    imgRGB = cv2.cvtColor(img, cv2.COLOR_BGR2RGB)\n",
    "    results = faceMesh.process(imgRGB)\n",
    "    if results.multi_face_landmarks:\n",
    "        for faceLms in results.multi_face_landmarks:\n",
    "            mpDraw.draw_landmarks(img, faceLms, mpFaceMesh.FACEMESH_TESSELATION,\n",
    "                                  drawSpec,drawSpec)\n",
    "            for id,lm in enumerate(faceLms.landmark):\n",
    "                #print(lm)\n",
    "                ih, iw, ic = img.shape\n",
    "                x,y = int(lm.x*iw), int(lm.y*ih)\n",
    "                print(id,x,y)\n",
    " "
   ]
  },
  {
   "cell_type": "code",
   "execution_count": 6,
   "id": "750c22fe",
   "metadata": {},
   "outputs": [
    {
     "data": {
      "text/plain": [
       "-1"
      ]
     },
     "execution_count": 6,
     "metadata": {},
     "output_type": "execute_result"
    }
   ],
   "source": [
    "cTime = time.time()\n",
    "fps = 1 / (cTime - pTime)\n",
    "pTime = cTime\n",
    "#cv2.putText(img, f'FPS: {int(fps)}', (332, 116), cv2.FONT_HERSHEY_PLAIN,3, (330,0 , 0), 3)\n",
    "#cv2.imshow(\"Image\", img)\n",
    "cv2.waitKey(1)\n"
   ]
  },
  {
   "cell_type": "code",
   "execution_count": 7,
   "id": "a9a47ff4",
   "metadata": {},
   "outputs": [
    {
     "ename": "TypeError",
     "evalue": "'frozenset' object is not callable",
     "output_type": "error",
     "traceback": [
      "\u001b[1;31m---------------------------------------------------------------------------\u001b[0m",
      "\u001b[1;31mTypeError\u001b[0m                                 Traceback (most recent call last)",
      "Input \u001b[1;32mIn [7]\u001b[0m, in \u001b[0;36m<module>\u001b[1;34m\u001b[0m\n\u001b[0;32m     54\u001b[0m         cv2\u001b[38;5;241m.\u001b[39mwaitKey(\u001b[38;5;241m1\u001b[39m)\n\u001b[0;32m     57\u001b[0m \u001b[38;5;28;01mif\u001b[39;00m \u001b[38;5;18m__name__\u001b[39m \u001b[38;5;241m==\u001b[39m \u001b[38;5;124m\"\u001b[39m\u001b[38;5;124m__main__\u001b[39m\u001b[38;5;124m\"\u001b[39m:\n\u001b[1;32m---> 58\u001b[0m     \u001b[43mmain\u001b[49m\u001b[43m(\u001b[49m\u001b[43m)\u001b[49m\n",
      "Input \u001b[1;32mIn [7]\u001b[0m, in \u001b[0;36mmain\u001b[1;34m()\u001b[0m\n\u001b[0;32m     40\u001b[0m cap \u001b[38;5;241m=\u001b[39m cv2\u001b[38;5;241m.\u001b[39mVideoCapture(\u001b[38;5;124m\"\u001b[39m\u001b[38;5;124mVideos/1.mp4\u001b[39m\u001b[38;5;124m\"\u001b[39m)\n\u001b[0;32m     41\u001b[0m pTime \u001b[38;5;241m=\u001b[39m \u001b[38;5;241m0\u001b[39m\n\u001b[1;32m---> 42\u001b[0m detector \u001b[38;5;241m=\u001b[39m \u001b[43mFaceMeshDetector\u001b[49m\u001b[43m(\u001b[49m\u001b[43mmaxFaces\u001b[49m\u001b[38;5;241;43m=\u001b[39;49m\u001b[38;5;241;43m2\u001b[39;49m\u001b[43m)\u001b[49m\n\u001b[0;32m     43\u001b[0m \u001b[38;5;28;01mwhile\u001b[39;00m \u001b[38;5;28;01mTrue\u001b[39;00m:\n\u001b[0;32m     44\u001b[0m     success, img \u001b[38;5;241m=\u001b[39m cap\u001b[38;5;241m.\u001b[39mread()\n",
      "Input \u001b[1;32mIn [7]\u001b[0m, in \u001b[0;36mFaceMeshDetector.__init__\u001b[1;34m(self, staticMode, maxFaces, minDetectionCon, minTrackCon)\u001b[0m\n\u001b[0;32m     10\u001b[0m \u001b[38;5;28mself\u001b[39m\u001b[38;5;241m.\u001b[39mmpDraw \u001b[38;5;241m=\u001b[39m mp\u001b[38;5;241m.\u001b[39msolutions\u001b[38;5;241m.\u001b[39mdrawing_utils\n\u001b[0;32m     11\u001b[0m \u001b[38;5;28mself\u001b[39m\u001b[38;5;241m.\u001b[39mmpFaceMesh \u001b[38;5;241m=\u001b[39m mp\u001b[38;5;241m.\u001b[39msolutions\u001b[38;5;241m.\u001b[39mface_mesh\n\u001b[1;32m---> 12\u001b[0m \u001b[38;5;28mself\u001b[39m\u001b[38;5;241m.\u001b[39mfaceMesh \u001b[38;5;241m=\u001b[39m \u001b[38;5;28;43mself\u001b[39;49m\u001b[38;5;241;43m.\u001b[39;49m\u001b[43mmpFaceMesh\u001b[49m\u001b[38;5;241;43m.\u001b[39;49m\u001b[43mFACEMESH_TESSELATION\u001b[49m\u001b[43m(\u001b[49m\u001b[38;5;28;43mself\u001b[39;49m\u001b[38;5;241;43m.\u001b[39;49m\u001b[43mstaticMode\u001b[49m\u001b[43m,\u001b[49m\u001b[43m \u001b[49m\u001b[38;5;28;43mself\u001b[39;49m\u001b[38;5;241;43m.\u001b[39;49m\u001b[43mmaxFaces\u001b[49m\u001b[43m,\u001b[49m\n\u001b[0;32m     13\u001b[0m \u001b[43m                                         \u001b[49m\u001b[38;5;28;43mself\u001b[39;49m\u001b[38;5;241;43m.\u001b[39;49m\u001b[43mminDetectionCon\u001b[49m\u001b[43m,\u001b[49m\u001b[43m \u001b[49m\u001b[38;5;28;43mself\u001b[39;49m\u001b[38;5;241;43m.\u001b[39;49m\u001b[43mminTrackCon\u001b[49m\u001b[43m)\u001b[49m\n\u001b[0;32m     14\u001b[0m \u001b[38;5;28mself\u001b[39m\u001b[38;5;241m.\u001b[39mdrawSpec \u001b[38;5;241m=\u001b[39m \u001b[38;5;28mself\u001b[39m\u001b[38;5;241m.\u001b[39mmpDraw\u001b[38;5;241m.\u001b[39mDrawingSpec(thickness\u001b[38;5;241m=\u001b[39m\u001b[38;5;241m1\u001b[39m, circle_radius\u001b[38;5;241m=\u001b[39m\u001b[38;5;241m2\u001b[39m)\n",
      "\u001b[1;31mTypeError\u001b[0m: 'frozenset' object is not callable"
     ]
    }
   ],
   "source": [
    "class FaceMeshDetector():\n",
    " \n",
    "    def __init__(self, staticMode=False, maxFaces=2, minDetectionCon=0.5, minTrackCon=0.5):\n",
    " \n",
    "        self.staticMode = staticMode\n",
    "        self.maxFaces = maxFaces\n",
    "        self.minDetectionCon = minDetectionCon\n",
    "        self.minTrackCon = minTrackCon\n",
    " \n",
    "        self.mpDraw = mp.solutions.drawing_utils\n",
    "        self.mpFaceMesh = mp.solutions.face_mesh\n",
    "        self.faceMesh = self.mpFaceMesh.FACEMESH_TESSELATION(self.staticMode, self.maxFaces,\n",
    "                                                 self.minDetectionCon, self.minTrackCon)\n",
    "        self.drawSpec = self.mpDraw.DrawingSpec(thickness=1, circle_radius=2)\n",
    " \n",
    "    def findFaceMesh(self, img, draw=True):\n",
    "        self.imgRGB = cv2.cvtColor(img, cv2.COLOR_BGR2RGB)\n",
    "        self.results = self.faceMesh.process(self.imgRGB)\n",
    "        faces = []\n",
    "        if self.results.multi_face_landmarks:\n",
    "            for faceLms in self.results.multi_face_landmarks:\n",
    "                if draw:\n",
    "                    self.mpDraw.draw_landmarks(img, faceLms, self.mpFaceMesh.FACE_CONNECTIONS,\n",
    "                                           self.drawSpec, self.drawSpec)\n",
    "                face = []\n",
    "                for id,lm in enumerate(faceLms.landmark):\n",
    "                    #print(lm)\n",
    "                    ih, iw, ic = img.shape\n",
    "                    x,y = int(lm.x*iw), int(lm.y*ih)\n",
    "                    #cv2.putText(img, str(id), (x, y), cv2.FONT_HERSHEY_PLAIN,\n",
    "                     #           0.7, (0, 255, 0), 1)\n",
    " \n",
    "                    #print(id,x,y)\n",
    "                    face.append([x,y])\n",
    "                faces.append(face)\n",
    "        return img, faces\n",
    " \n",
    " \n",
    "def main():\n",
    "    cap = cv2.VideoCapture(\"Videos/1.mp4\")\n",
    "    pTime = 0\n",
    "    detector = FaceMeshDetector(maxFaces=2)\n",
    "    while True:\n",
    "        success, img = cap.read()\n",
    "        img, faces = detector.findFaceMesh(img)\n",
    "        if len(faces)!= 0:\n",
    "            print(faces[0])\n",
    "        cTime = time.time()\n",
    "        fps = 1 / (cTime - pTime)\n",
    "        pTime = cTime\n",
    "        cv2.putText(img, f'FPS: {int(fps)}', (20, 70), cv2.FONT_HERSHEY_PLAIN,\n",
    "                    3, ( 255,0, 0), 3)\n",
    "        cv2.imshow(\"Image\", img)\n",
    "        cv2.waitKey(1)\n",
    " \n",
    " \n",
    "if __name__ == \"__main__\":\n",
    "    main()"
   ]
  },
  {
   "cell_type": "code",
   "execution_count": null,
   "id": "bd74dfcc",
   "metadata": {},
   "outputs": [],
   "source": []
  },
  {
   "cell_type": "code",
   "execution_count": null,
   "id": "a567e7ab",
   "metadata": {},
   "outputs": [],
   "source": []
  }
 ],
 "metadata": {
  "kernelspec": {
   "display_name": "Python 3 (ipykernel)",
   "language": "python",
   "name": "python3"
  },
  "language_info": {
   "codemirror_mode": {
    "name": "ipython",
    "version": 3
   },
   "file_extension": ".py",
   "mimetype": "text/x-python",
   "name": "python",
   "nbconvert_exporter": "python",
   "pygments_lexer": "ipython3",
   "version": "3.10.2"
  }
 },
 "nbformat": 4,
 "nbformat_minor": 5
}
